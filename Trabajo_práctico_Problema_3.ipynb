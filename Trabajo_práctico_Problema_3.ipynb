{
  "nbformat": 4,
  "nbformat_minor": 0,
  "metadata": {
    "colab": {
      "provenance": [],
      "authorship_tag": "ABX9TyMZQkCioDDaN3kk2j33dq6z",
      "include_colab_link": true
    },
    "kernelspec": {
      "name": "python3",
      "display_name": "Python 3"
    },
    "language_info": {
      "name": "python"
    }
  },
  "cells": [
    {
      "cell_type": "markdown",
      "metadata": {
        "id": "view-in-github",
        "colab_type": "text"
      },
      "source": [
        "<a href=\"https://colab.research.google.com/github/Anardguezd/03MIAR---Algoritmos-de-Optimizacion/blob/main/Trabajo_pr%C3%A1ctico_Problema_3.ipynb\" target=\"_parent\"><img src=\"https://colab.research.google.com/assets/colab-badge.svg\" alt=\"Open In Colab\"/></a>"
      ]
    },
    {
      "cell_type": "markdown",
      "source": [
        "Nombre: Ana Rodriguez Dominguez\n",
        "\n",
        "Link:https://colab.research.google.com/github/Anardguezd/03MIAR---Algoritmos-de-Optimizacion/blob/main/Trabajo_pr%C3%A1ctico_Problema_3.ipynb\n",
        "\n",
        "Github: http: //github.com/Anarguezd/03MIAR--Algoritmos-de-Optimizacion"
      ],
      "metadata": {
        "id": "wL_4ypd21kQZ"
      }
    },
    {
      "cell_type": "markdown",
      "source": [
        "• El problema consiste en analizar el siguiente problema y diseñar un algoritmo que lo resuelva.\n",
        "\n",
        "• Disponemos de las 9 cifras del 1 al 9 (excluimos el cero) y de los 4 signos básicos de las operaciones fundamentales: \n",
        "\n",
        "suma(+), resta(-), multiplicación(*) y división(/) \n",
        "\n",
        "• Debemos combinarlos alternativamente sin repetir ninguno de ellos para obtener una cantidad \n",
        "dada. \n",
        "\n",
        "Un ejemplo sería para obtener el 4:\n",
        "4+2-6/3*1 = 4\n"
      ],
      "metadata": {
        "id": "6NHWaOVd3F8R"
      }
    },
    {
      "cell_type": "markdown",
      "source": [
        "• Debe analizarse el problema para encontrar todos los valores enteros posibles planteando las \n",
        "siguientes cuestiones:\n",
        "\n",
        "- ¿Qué valor máximo y mínimo se pueden obtener según las condiciones del problema?\n",
        "- ¿Es posible encontrar todos los valores enteros posibles entre dicho mínimo y máximo ?\n",
        "\n",
        "• Nota: Es posible usar la función de python “eval” para evaluar una expresión"
      ],
      "metadata": {
        "id": "iZpN76Uj3Uw2"
      }
    },
    {
      "cell_type": "markdown",
      "source": [
        "– Complejidad\n",
        "\n",
        "– Justificar la estructura de datos elegida\n",
        "\n",
        "– Generar y probar con diferentes juegos de datos de entrada"
      ],
      "metadata": {
        "id": "hZpml-5e3Xmo"
      }
    },
    {
      "cell_type": "code",
      "source": [
        "4+2-6/3*1 "
      ],
      "metadata": {
        "colab": {
          "base_uri": "https://localhost:8080/"
        },
        "id": "8e5ZXZKE3a23",
        "outputId": "22268c8d-ac99-445f-e3d8-4e08065df16b"
      },
      "execution_count": null,
      "outputs": [
        {
          "output_type": "execute_result",
          "data": {
            "text/plain": [
              "4.0"
            ]
          },
          "metadata": {},
          "execution_count": 1
        }
      ]
    },
    {
      "cell_type": "code",
      "source": [],
      "metadata": {
        "id": "xIan2D6ST9rX"
      },
      "execution_count": null,
      "outputs": []
    }
  ]
}