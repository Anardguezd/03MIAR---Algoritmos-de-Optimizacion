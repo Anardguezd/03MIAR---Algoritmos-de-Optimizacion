{
  "nbformat": 4,
  "nbformat_minor": 0,
  "metadata": {
    "colab": {
      "provenance": [],
      "include_colab_link": true
    },
    "kernelspec": {
      "name": "python3",
      "display_name": "Python 3"
    }
  },
  "cells": [
    {
      "cell_type": "markdown",
      "metadata": {
        "id": "view-in-github",
        "colab_type": "text"
      },
      "source": [
        "<a href=\"https://colab.research.google.com/github/Anardguezd/03MIAR---Algoritmos-de-Optimizacion/blob/main/Proyecto_final_RodriguezDominguez_Ana.ipynb\" target=\"_parent\"><img src=\"https://colab.research.google.com/assets/colab-badge.svg\" alt=\"Open In Colab\"/></a>"
      ]
    },
    {
      "cell_type": "markdown",
      "metadata": {
        "id": "hVbXYX-RfPWh"
      },
      "source": [
        "# **Algoritmos de optimización - Seminario<br>**\n",
        "**Nombre y Apellidos:** Ana Rodriguez Dominguez  <br>\n",
        "**Url:** https://github.com/Anardguezd/03MIAR---Algoritmos-de-Optimizacion.git\n",
        "\n",
        "**Problema:**\n",
        ">3. Combinar cifras y operaciones\n",
        "\n",
        "**Descripción del problema:**\n",
        "\n",
        "- El problema consiste en analizar el siguiente problema y diseñar un algoritmo que lo resuelva.\n",
        "\n",
        "- Disponemos de las 9 cifras del 1 al 9 (excluimos el cero) y de los 4 signos básicos de las operaciones fundamentales: \n",
        "\n",
        "     _suma(+), resta(-), multiplicación(*) y división(/)_\n",
        "\n",
        "- Debemos combinarlos alternativamente sin repetir ninguno de ellos para obtener una cantidad \n",
        "dada. \n",
        "\n",
        "**Un ejemplo sería para obtener el 4:**\n",
        "4+2-6/3*1 = 4\n",
        "\n",
        "#####Debe analizarse el problema para encontrar todos los valores enteros posibles planteando las siguientes cuestiones:\n",
        "- ¿Qué valor máximo y mínimo se pueden obtener según las condiciones del problema?\n",
        "- ¿Es posible encontrar todos los valores enteros posibles entre dicho mínimo y máximo ?\n",
        "\n",
        "_Nota: Es posible usar la función de python “eval” para evaluar una expresión_\n",
        "\n",
        "\n",
        "....\n",
        "\n",
        "(*) La respuesta es obligatoria\n",
        "\n",
        "\n",
        "\n",
        "\n",
        "\n",
        "                                        "
      ]
    },
    {
      "cell_type": "markdown",
      "metadata": {
        "id": "3_-exlrTgLd-"
      },
      "source": [
        "###**(*)1.¿Cuantas posibilidades hay sin tener en cuenta las restricciones?<br>**\n",
        "\n",
        "\n",
        "\n",
        "###¿Cuantas posibilidades hay teniendo en cuenta todas las restricciones.\n",
        "\n",
        "\n"
      ]
    },
    {
      "cell_type": "markdown",
      "source": [
        "Respuesta:"
      ],
      "metadata": {
        "id": "tywDSacPOSg4"
      }
    },
    {
      "cell_type": "markdown",
      "source": [
        "**CON RESTRICCIONES**\n",
        "\n",
        "Lo primero de todo debemos identificar el tipo de problema al que nos afrontamos, y para ello nos realizamos las siguientes preguntas:\n",
        "\n",
        "\n",
        "\n",
        "\n",
        "\n",
        "\n",
        "\n",
        "\n"
      ],
      "metadata": {
        "id": "QCJKjwBYhbtY"
      }
    },
    {
      "cell_type": "markdown",
      "source": [
        "**Para las cifras:**\n",
        "1. ¿Importa el orden? - **SI**\n",
        "2. ¿Utilizamos todo el conjunto de datos de partida? - **NO**\n",
        "\n",
        "Al importar el orden y no utilizar todo el conjunto de partida (de las 9 cifras, solo necesitamos 5) y no poder repetir cifras, nos encontramos antes un problema de:\n",
        "\n",
        "**VARIACION SIN REPETICION**\n",
        "\n",
        "Tomando el valor de **k=5** (ya que escogemos 5 cifras aletorias del total) y **n=9** (el numero total de cifras del conjunto de partida)\n",
        "\n",
        "**SOLUCION** = *(9!/(9-5)!) = 15.120*\n",
        "\n",
        "**Para los operadores:**\n",
        "1. Importa el orden? - **SI**\n",
        "2. Utilizamos todo el conjunto de datos de partida? - **SI**\n",
        "\n",
        "Al importar el orden y coger todos los datos de partida y no ser posible repetir operadores, nos encontramos ante un problema de:\n",
        "\n",
        "**PERMUTACION SIN REPETICION**\n",
        "\n",
        "Tomando el valor de **n=4** (conjunto de partida:'(+,-,*,/)').\n",
        "\n",
        "**SOLUCION** = _4! = 24_\n",
        "\n",
        "**Si combinamos ambas:**\n",
        "\n",
        "**SOLUCION FINAL** = _24*15.120= 362.880_\n",
        "\n",
        "**SIN RESTRICCIONES**\n",
        "\n",
        "Al no tener restricciones, las posibilidades aumentan, debemos evaluar el problema de la siguiente forma:\n",
        "1. Podemos repetir elementos? -**SI**\n",
        "Por lo que se trata de un problema de:\n",
        " **VARIACION CON REPETICION** \n",
        " \n",
        "Se pueden obtener las siguientes soluciones:\n",
        "- Para las cifras: 9^5 = **59.049**\n",
        "- Para los operadores: 4^4 = **256**\n",
        "\n",
        "**Si combinamos ambas:**\n",
        "\n",
        "**SOLUCION FINAL** = _256*59.049= 15.116.544_"
      ],
      "metadata": {
        "id": "W3dRlzkOInNv"
      }
    },
    {
      "cell_type": "code",
      "source": [
        "#Representamos la solucion en Python:\n",
        "#CON RESTRICCIONES\n",
        "#Para las cifras:\n",
        "#Utilizamos la libreria math para calcular las operaciones factoriales\n",
        "import math\n",
        "# Definimos los parámetros\n",
        "k = 5\n",
        "n = 9\n",
        "# Calculamos la variación sin repetición\n",
        "var = math.factorial(n) // math.factorial(n - k)\n",
        "# Mostramos el resultado\n",
        "print(var)"
      ],
      "metadata": {
        "colab": {
          "base_uri": "https://localhost:8080/"
        },
        "id": "NjSRIO2lZK2A",
        "outputId": "a4a34683-a708-4e90-a47d-8c73497c1f00"
      },
      "execution_count": null,
      "outputs": [
        {
          "output_type": "stream",
          "name": "stdout",
          "text": [
            "15120\n"
          ]
        }
      ]
    },
    {
      "cell_type": "code",
      "source": [
        "#CON RESTRICCIONES\n",
        "#Para los operadores:\n",
        "#Definimos los parámetros\n",
        "n=4\n",
        "#Calculamos la permutacion sin repeticion\n",
        "permuta=math.factorial(n)\n",
        "#Mostramos el resultado\n",
        "print(permuta)"
      ],
      "metadata": {
        "colab": {
          "base_uri": "https://localhost:8080/"
        },
        "id": "PwIGXa3ea94M",
        "outputId": "f649298a-cb82-49da-af0d-16f9fed80c47"
      },
      "execution_count": null,
      "outputs": [
        {
          "output_type": "stream",
          "name": "stdout",
          "text": [
            "24\n"
          ]
        }
      ]
    },
    {
      "cell_type": "code",
      "source": [
        "#POSIBILIDADES CON RESTRICCIONES\n",
        "solucion_final= var*permuta\n",
        "print('Las posibilidades teniendo en cuenta las restricciones son:', solucion_final)"
      ],
      "metadata": {
        "colab": {
          "base_uri": "https://localhost:8080/"
        },
        "id": "IWQbKJavbaPG",
        "outputId": "5dab8438-57d1-484c-c191-451355c7ff26"
      },
      "execution_count": null,
      "outputs": [
        {
          "output_type": "stream",
          "name": "stdout",
          "text": [
            "Las posibilidades teniendo en cuenta las restricciones son: 362880\n"
          ]
        }
      ]
    },
    {
      "cell_type": "code",
      "source": [
        "#SIN RESTRICCIONES\n",
        "#Para las cifras\n",
        "# Definimos los parámetros\n",
        "k = 5\n",
        "n = 9\n",
        "# Calculamos la variación con repetición\n",
        "var_r = n ** k\n",
        "# Mostramos el resultado\n",
        "print(var_r)"
      ],
      "metadata": {
        "colab": {
          "base_uri": "https://localhost:8080/"
        },
        "id": "ldIllu4UaYkn",
        "outputId": "34e42d31-04d5-4d3a-8e71-731c0bb6d96d"
      },
      "execution_count": null,
      "outputs": [
        {
          "output_type": "stream",
          "name": "stdout",
          "text": [
            "59049\n"
          ]
        }
      ]
    },
    {
      "cell_type": "code",
      "source": [
        "#Para los operadores\n",
        "#Definimos los parametros\n",
        "k=4\n",
        "n=4\n",
        "#Calculamos la variacion con repeticion\n",
        "var_r_o= n ** k\n",
        "#Mostramos el resultado\n",
        "print(var_r_o)"
      ],
      "metadata": {
        "colab": {
          "base_uri": "https://localhost:8080/"
        },
        "id": "848L7jIXcQXv",
        "outputId": "d76605a8-7cc7-499b-e215-c59be7491fef"
      },
      "execution_count": null,
      "outputs": [
        {
          "output_type": "stream",
          "name": "stdout",
          "text": [
            "256\n"
          ]
        }
      ]
    },
    {
      "cell_type": "code",
      "source": [
        "#POSIBILIDADES SIN RESTRICCIONES\n",
        "solucion_final= var_r*var_r_o\n",
        "print('Las posibilidades teniendo en cuenta las restricciones son:', solucion_final)"
      ],
      "metadata": {
        "colab": {
          "base_uri": "https://localhost:8080/"
        },
        "id": "B9xQV0REcuuH",
        "outputId": "d30c363b-bfba-484e-e058-7286458e5c2d"
      },
      "execution_count": null,
      "outputs": [
        {
          "output_type": "stream",
          "name": "stdout",
          "text": [
            "Las posibilidades teniendo en cuenta las restricciones son: 15116544\n"
          ]
        }
      ]
    },
    {
      "cell_type": "markdown",
      "metadata": {
        "id": "dzynfVJahHoY"
      },
      "source": [
        "Modelo para el espacio de soluciones<br>\n",
        "###**(*) 2. ¿Cual es la estructura de datos que mejor se adapta al problema? Argumentalo.(Es posible que hayas elegido una al principio y veas la necesidad de cambiar, argumentalo)**\n"
      ]
    },
    {
      "cell_type": "markdown",
      "source": [
        "He decidio almacenar los datos en **dos listas de tipo string**, para asi poder realizar las indexaciones y manipulaciones correspondientes adecuadamente. \n",
        "\n",
        "De esta forma podemos usar la funcion eval para resolver la expresión.\n",
        "\n",
        "En mi caso ha sido la unica estructura de datos que he utilizado tanto para el algoritmo de fuerza bruta como para el que mejora la complejidad."
      ],
      "metadata": {
        "id": "DYaY3mSmoN-c"
      }
    },
    {
      "cell_type": "markdown",
      "metadata": {
        "id": "7Z9U2W7bi-XS"
      },
      "source": [
        "###**3. Según el modelo para el espacio de soluciones<br>**\n",
        "###**(*)¿Cual es la función objetivo?**\n",
        "###**(*)¿Es un problema de maximización o minimización?** "
      ]
    },
    {
      "cell_type": "markdown",
      "source": [
        "Al tratarse de un problema de busqueda no podemos definir una funcion objetivo como tal, pero esta seria una funcion que busque las combinaciones entre todas las posibilidades para obtener el resultado deseado, podriamos enunciarla de la siguiente manera:\n",
        "\n",
        " - distancia del valor objetivo n al valor calculado k, entonces:\n",
        "\n",
        "     **f(x)=|n-k|**\n"
      ],
      "metadata": {
        "id": "s8vTDUPqe7TV"
      }
    },
    {
      "cell_type": "markdown",
      "source": [
        "No se trata de un problema ni de maximizacion ni de minimizacion, se trata de un problema de **BÚSQUEDA**.\n",
        "\n",
        "Consiste en buscar una solucion que se adapte a las restricciones mencionadas anteriormente."
      ],
      "metadata": {
        "id": "tHVCXVMIgauf"
      }
    },
    {
      "cell_type": "markdown",
      "source": [
        "###**4.¿Qué valor máximo y mínimo se pueden obtener según las condiciones del problema?**\n",
        "###  **¿Es posible encontrar todos los valores enteros posibles entre dicho mínimo y máximo ?**"
      ],
      "metadata": {
        "id": "iq95mKE4d08Y"
      }
    },
    {
      "cell_type": "code",
      "source": [
        "#Utilizamos la libreria intertools para sacar todas las combinaciones posibles\n",
        "from itertools import * \n",
        "def crear_combinaciones(lista, limite=None):\n",
        "  if limite is not None:\n",
        "    return list(permutations(lista, limite))\n",
        "  return list(permutations(lista))\n",
        "\n",
        "operadores = ('+', '-', '*', '/')\n",
        "cifras =('1','2','3','4','5','6','7','8','9')\n",
        "\n",
        "combinacion_signos = crear_combinaciones(operadores)\n",
        "\n",
        "operaciones = []\n",
        "for val in crear_combinaciones(cifras, 5):  #Creamos combinaciones de 5 cifras\n",
        "  for sig in combinacion_signos:\n",
        "    expresion = str(val[0]) + sig[0] + str(val[1]) +sig[1]+ str(val[2]) + sig[2] + str(val[3]) + sig[3] + str(val[4])\n",
        "    operaciones.append(expresion)\n",
        "print(len(operaciones))"
      ],
      "metadata": {
        "colab": {
          "base_uri": "https://localhost:8080/"
        },
        "id": "fFF5MMO_eG9A",
        "outputId": "c2b4e907-e7e1-4068-dba8-17648a2776e4"
      },
      "execution_count": null,
      "outputs": [
        {
          "output_type": "stream",
          "name": "stdout",
          "text": [
            "362880\n"
          ]
        }
      ]
    },
    {
      "cell_type": "code",
      "source": [
        "#Necesitamos hallar los todos los posibles resultados\n",
        "resultados = list()\n",
        "for operacion in operaciones:\n",
        "  data = dict()\n",
        "  data['operacion'] = operacion\n",
        "  data['entera'] = eval(operacion)\n",
        "\n",
        "  resultados.append(data)\n",
        "\n",
        "#Necesitamos solo los resultados que den soluciones ENTERAS\n",
        "\n",
        "resultados_enteros = list()\n",
        "for entera in resultados:\n",
        "  if entera['entera'] == int(entera['entera']):\n",
        "    resultados_enteros.append(entera)\n",
        "print(len(resultados_enteros))"
      ],
      "metadata": {
        "colab": {
          "base_uri": "https://localhost:8080/"
        },
        "id": "HwjEA-wAnnZ3",
        "outputId": "dfbc961b-edb7-4e1a-cd10-5fd4bafb5806"
      },
      "execution_count": null,
      "outputs": [
        {
          "output_type": "stream",
          "name": "stdout",
          "text": [
            "90000\n"
          ]
        }
      ]
    },
    {
      "cell_type": "code",
      "source": [
        "#Observamos que hemos reducido consideradamente nuestros resultados.\n",
        "#Ahora necesitamos obtener los resultados UNICOS.\n",
        "resultados_unicos = list()\n",
        "for entera in resultados_enteros:\n",
        "  if not int(entera['entera']) in resultados_unicos:\n",
        "    resultados_unicos.append(int(entera['entera']))\n",
        "\n",
        "print(len(resultados_unicos))"
      ],
      "metadata": {
        "colab": {
          "base_uri": "https://localhost:8080/"
        },
        "id": "0t9zsJnTk1j8",
        "outputId": "29c94152-8630-498d-e5c1-4c44ac7430d8"
      },
      "execution_count": null,
      "outputs": [
        {
          "output_type": "stream",
          "name": "stdout",
          "text": [
            "147\n"
          ]
        }
      ]
    },
    {
      "cell_type": "code",
      "source": [
        "#Hemos encontrado la solucion a nuestro problema, obtenemos 147 resultados UNICOS entre el maximo y el minimo.\n",
        "print(resultados_unicos)"
      ],
      "metadata": {
        "colab": {
          "base_uri": "https://localhost:8080/"
        },
        "id": "B3KmeGRweHGd",
        "outputId": "cd85e7ac-1237-41af-fd37-d2c4b7088201"
      },
      "execution_count": null,
      "outputs": [
        {
          "output_type": "stream",
          "name": "stdout",
          "text": [
            "[1, -3, 5, -2, 4, 0, 2, -5, 7, -1, -6, 3, 8, -7, -4, 9, 6, -9, 11, -12, 14, -11, 13, -13, 15, -15, 17, 10, -8, -18, 20, 12, -10, -21, 23, -14, 16, -16, 18, -17, 19, -20, 22, -23, 25, -24, 26, -32, 34, 24, -22, -27, 29, -37, 39, -42, 44, -39, 41, -45, 47, -51, 53, -53, 55, -60, 62, -69, 71, -19, 21, 27, -25, -31, 33, 30, -28, 31, -29, 35, -33, 28, -26, 32, -30, 38, -36, 43, -41, 42, -40, -52, 54, -59, 61, -68, 70, 40, -38, 46, -44, 51, -49, 60, -58, -35, -43, -67, -34, -48, 52, -50, -57, -66, 45, -47, -56, 36, -65, 69, -55, 59, -64, 68, 49, 48, -63, 67, 57, 56, 63, 72, 37, 64, 73, -46, -54, 50, -62, 58, 65, 74, -61, 66, 75, 76, 77]\n"
          ]
        }
      ]
    },
    {
      "cell_type": "code",
      "source": [
        "#Ahora podemos sacar el valor máximo y el mínimo\n",
        "print('El resultado minimo obtenido es:', min(resultados_unicos), 'y el resultado máximo obtenido es:', max(resultados_unicos))\n"
      ],
      "metadata": {
        "colab": {
          "base_uri": "https://localhost:8080/"
        },
        "id": "SMQIP6_eqTwT",
        "outputId": "d11c9663-7f18-4fb5-8343-f660641fd479"
      },
      "execution_count": null,
      "outputs": [
        {
          "output_type": "stream",
          "name": "stdout",
          "text": [
            "El resultado minimo obtenido es: -69 y el resultado máximo obtenido es: 77\n"
          ]
        }
      ]
    },
    {
      "cell_type": "markdown",
      "metadata": {
        "id": "rlnTYgY1j6I2"
      },
      "source": [
        "##**Diseña un algoritmo para resolver el problema por fuerza bruta**"
      ]
    },
    {
      "cell_type": "markdown",
      "metadata": {
        "id": "70rDgxYXkC8r"
      },
      "source": [
        "Respuesta"
      ]
    },
    {
      "cell_type": "code",
      "metadata": {
        "id": "CJb5sQ0qkENy",
        "outputId": "22a5ec99-c358-433c-f76d-69327925eb2a",
        "colab": {
          "base_uri": "https://localhost:8080/"
        }
      },
      "source": [
        "# SOLUCION POR FUERZA BRUTA\n",
        "#Utilizare la libreria random para generar cifras y operadores aleatorios.\n",
        "import random\n",
        "#Definimos dos listas  con nuestros datos de partida, \"cifras\" y \"operadores\"\n",
        "cifras=('1','2','3','4','5','6','7','8','9')\n",
        "operadores=('+','-','*','/')\n",
        "#Creamos dos listas vacías donde almacenaremos los datos que usaremos para resolver el problema. \n",
        "#5 cifras aletorias no repetidas para \"codigo\" \n",
        "#y 4 operadores basicos de orden aleatorio para \"codigo_2\".\n",
        "codigo = ''\n",
        "codigo_2=''\n",
        "#Por ultimo creamos otra lista vacia donde almacenaremos el resultado final de la expresion buscada.\n",
        "resultado=''\n",
        "#Para seleccionar cifras y operadores aleatorios utilizamos random.choice\n",
        "for n in range(5):\n",
        "    candidato = random.choice(cifras)\n",
        "    # vamos eligiendo digitos no repetidos\n",
        "    while candidato in codigo:\n",
        "        candidato = random.choice(cifras)\n",
        "    codigo = codigo + candidato\n",
        "for i in range(4):\n",
        "    candidato_2 = random.choice(operadores)\n",
        "    while candidato_2 in codigo_2:\n",
        "        candidato_2 = random.choice(operadores)\n",
        "    codigo_2= codigo_2 + candidato_2\n",
        "print(codigo)\n",
        "print(codigo_2)\n",
        "#Combinamos las dos listas de codigo y codigo_2\n",
        "for n, i in zip(codigo, codigo_2):\n",
        "    resultado= resultado + n + i\n",
        "#Debido a que tenemos longitudes distintas entre las cifras y lo operadores, necesitamos añadir la ultima cifra a mano:\n",
        "resultado=resultado + codigo[-1]\n",
        "#Printeamos la expresion:\n",
        "print(resultado)\n",
        "#Evaluamos la expresion:\n",
        "print(f'Solucion de {resultado} = {eval(resultado)}')"
      ],
      "execution_count": null,
      "outputs": [
        {
          "output_type": "stream",
          "name": "stdout",
          "text": [
            "57319\n",
            "+/-*\n",
            "5+7/3-1*9\n",
            "Solucion de 5+7/3-1*9 = -1.666666666666666)\n"
          ]
        }
      ]
    },
    {
      "cell_type": "markdown",
      "metadata": {
        "id": "tgrnsC2nkFa8"
      },
      "source": [
        "##**Calcula la complejidad del algoritmo por fuerza bruta**"
      ]
    },
    {
      "cell_type": "markdown",
      "metadata": {
        "id": "9eUd3xwckP68"
      },
      "source": [
        "En el algoritmo de fuerza bruta que he diseñado, he utilizado 3 bucles for sin anidar, esto nos da una complejidad de orden: O(n). \n",
        "A su vez dentro de los dos primeros bucles tengo anidado un bucle while, esto computacionalmente nos da una complejidad de orden: O(n^2).\n",
        "\n",
        "Por lo que la complejidad computacion final del algoritmo por fuerza bruta \n",
        "diseñado es de:\n",
        "\n",
        "**O(n^2)**"
      ]
    },
    {
      "cell_type": "markdown",
      "metadata": {
        "id": "txbrmLmskReM"
      },
      "source": [
        "##**(*)Diseña un algoritmo que mejore la complejidad del algortimo por fuerza bruta. Argumenta porque crees que mejora el algoritmo por fuerza bruta**"
      ]
    },
    {
      "cell_type": "markdown",
      "source": [
        "He optado por diseñar un algoritmo de **busqueda aletoria**, se trata de un algoritmo muy sencillo que solo consta de un unico paso:\n",
        "\n",
        "- Seleccionar una combinación de números y una combinación de signos aleatoriamente."
      ],
      "metadata": {
        "id": "0irqhRKK-oHp"
      }
    },
    {
      "cell_type": "markdown",
      "metadata": {
        "id": "hLrVwt5QkZPD"
      },
      "source": [
        "Respuesta"
      ]
    },
    {
      "cell_type": "code",
      "source": [
        "from itertools import permutations,combinations\n",
        "#Creamos una lista con las combinaciones de los numeros y otra con la de los operadores\n",
        "cifras=('1','2','3','4','5','6','7','8','9')\n",
        "operadores=('+','-','*','/')\n",
        "combinaciones_cifras = list(permutations(cifras, 5))\n",
        "combinaciones_operadores = list(permutations(operadores, 4))\n",
        "\n",
        "#Creamos una función que combine los números con los operadores:\n",
        "def combinar_num_sig(cifras, operadores):\n",
        "  expresion = ''\n",
        "  for num, sig in zip(range(len(cifras)-1), range(len(operadores))):\n",
        "    expresion = expresion + cifras[num]\n",
        "    expresion = expresion + operadores[sig]\n",
        "  expresion = expresion + cifras[-1]\n",
        "  return expresion"
      ],
      "metadata": {
        "id": "_ITCbldx8x90"
      },
      "execution_count": null,
      "outputs": []
    },
    {
      "cell_type": "code",
      "source": [
        "#Búsqueda aleatoria\n",
        "import random\n",
        "def busqueda_aleatoria(nums, sigs, valor, iteraciones):\n",
        "  for i in range(iteraciones):\n",
        "    cifras_aleatorios = random.choice(nums)\n",
        "    operadores_aleatorios = random.choice(sigs)\n",
        "\n",
        "    expresion = combinar_num_sig(cifras_aleatorios, operadores_aleatorios)\n",
        "    if eval(expresion) == valor:\n",
        "      return print(\"La expresion {} da como resultado el numero {}\".format(expresion,valor))\n",
        "\n",
        "  return print(\"No se ha encontrado una expresion que de como resultado el número {}\".format(valor))\n",
        "\n",
        "\n",
        "valor = 32\n",
        "expresion = busqueda_aleatoria(combinaciones_cifras, combinaciones_operadores, valor, 100)"
      ],
      "metadata": {
        "id": "Haqz4HxB--CM",
        "outputId": "aa8a6a7b-6b76-4c4d-924c-af9ed7e0f319",
        "colab": {
          "base_uri": "https://localhost:8080/"
        }
      },
      "execution_count": null,
      "outputs": [
        {
          "output_type": "stream",
          "name": "stdout",
          "text": [
            "La expresion 8*7/2-5+9 da como resultado el numero 32\n"
          ]
        }
      ]
    },
    {
      "cell_type": "markdown",
      "metadata": {
        "id": "eGDB4K6uk1iN"
      },
      "source": [
        "##**(*)Calcula la complejidad del algoritmo**"
      ]
    },
    {
      "cell_type": "markdown",
      "metadata": {
        "id": "NhpTh_BPk1ms"
      },
      "source": [
        "La complejidad de un algoritmo de búsqueda aleatoria es fácil de cuantificar puesto que solo dependemos del número de iteraciones que realizamos. Si definimos el número de operaciones como **n** la complejidad del problema es lineal, solo hay un único bucle y por tanto la complejidad es O(n) donde en el mejor de los casos (una única iteración) la complejidad sería de O(1). La probabilidad de encontrar una solucion con esta complejidad es muy baja.\n",
        "\n"
      ]
    },
    {
      "cell_type": "markdown",
      "metadata": {
        "id": "3M6QjTsSkmYe"
      },
      "source": [
        "####**Según el problema (y tenga sentido), diseña un juego de datos de entrada aleatorios**"
      ]
    },
    {
      "cell_type": "markdown",
      "source": [
        "-"
      ],
      "metadata": {
        "id": "7iEeoK3KuHuR"
      }
    },
    {
      "cell_type": "markdown",
      "metadata": {
        "id": "zy5ZROmjlGo1"
      },
      "source": [
        "####**Aplica el algoritmo al juego de datos generado**"
      ]
    },
    {
      "cell_type": "markdown",
      "source": [
        "-"
      ],
      "metadata": {
        "id": "r2lTzqwBuIs3"
      }
    },
    {
      "cell_type": "markdown",
      "metadata": {
        "id": "eTFWUJQrtGcv"
      },
      "source": [
        "###**Enumera las referencias que has utilizado(si ha sido necesario) para llevar a cabo el trabajo**"
      ]
    },
    {
      "cell_type": "markdown",
      "metadata": {
        "id": "YKQ_mRBttWsP"
      },
      "source": [
        "He tenido que profundizar en los codigos de las actividades guiadas realizadas durante la asignatura y realizar una exahustiva busqueda de informacion, leer muchos codigos que he ido encontrando en internet y depurar toda la informacion recogida y finalmente me he apoyado en PSeInt para la creacion del algoritmo, es una plataforma que permite descifrar un pseudocodigo y ayuda al diseño del algoritmo paso a paso.\n",
        "\n",
        "https://pseint.sourceforge.net/"
      ]
    },
    {
      "cell_type": "markdown",
      "metadata": {
        "id": "kAkDPUyRtYyH"
      },
      "source": [
        "###**Describe brevemente las lineas de como crees que es posible avanzar en el estudio del problema. Ten en cuenta incluso posibles variaciones del problema y/o variaciones al alza del tamaño**"
      ]
    },
    {
      "cell_type": "markdown",
      "metadata": {
        "id": "IE0uZmo-tZu-"
      },
      "source": [
        "Por lo que he estado investigando, creo que el problema se podria mejorar si se utilizase un **algoritmo genetico** para resolverlo.\n",
        "\n",
        "Para ello primero de todo se necesita explorar una familia de soluciones y entre esas soluciones ir seleccionando los mejores individuos, es decir los que se adapten mejor ante el problema, para seguir generando más y de este modo acercarse poco a poco al resultado óptimo. \n"
      ]
    }
  ]
}