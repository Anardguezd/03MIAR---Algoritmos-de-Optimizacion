{
  "nbformat": 4,
  "nbformat_minor": 0,
  "metadata": {
    "colab": {
      "provenance": [],
      "include_colab_link": true
    },
    "kernelspec": {
      "name": "python3",
      "display_name": "Python 3"
    }
  },
  "cells": [
    {
      "cell_type": "markdown",
      "metadata": {
        "id": "view-in-github",
        "colab_type": "text"
      },
      "source": [
        "<a href=\"https://colab.research.google.com/github/Anardguezd/03MIAR---Algoritmos-de-Optimizacion/blob/main/TRABAJO%20FINAL.%20PROBLEMA%203.ipynb\" target=\"_parent\"><img src=\"https://colab.research.google.com/assets/colab-badge.svg\" alt=\"Open In Colab\"/></a>"
      ]
    },
    {
      "cell_type": "markdown",
      "metadata": {
        "id": "hVbXYX-RfPWh"
      },
      "source": [
        "# Algoritmos de optimización - Seminario<br>\n",
        "Nombre y Apellidos: Ana Rodriguez Dominguez  <br>\n",
        "Url: http: //github.com/Anarguezd/03MIAR--Algoritmos-de-Optimizacion<br>\n",
        "Problema:\n",
        ">3. Combinar cifras y operaciones\n",
        "\n",
        "Descripción del problema:\n",
        "\n",
        "• El problema consiste en analizar el siguiente problema y diseñar un algoritmo que lo resuelva.\n",
        "\n",
        "• Disponemos de las 9 cifras del 1 al 9 (excluimos el cero) y de los 4 signos básicos de las operaciones fundamentales: \n",
        "\n",
        "suma(+), resta(-), multiplicación(*) y división(/) \n",
        "\n",
        "• Debemos combinarlos alternativamente sin repetir ninguno de ellos para obtener una cantidad \n",
        "dada. \n",
        "\n",
        "Un ejemplo sería para obtener el 4:\n",
        "4+2-6/3*1 = 4\n",
        "\n",
        "• Debe analizarse el problema para encontrar todos los valores enteros posibles planteando las \n",
        "siguientes cuestiones:\n",
        "- ¿Qué valor máximo y mínimo se pueden obtener según las condiciones del problema?\n",
        "- ¿Es posible encontrar todos los valores enteros posibles entre dicho mínimo y máximo ?\n",
        "• Nota: Es posible usar la función de python “eval” para evaluar una expresión\n",
        "\n",
        "\n",
        "....\n",
        "\n",
        "(*) La respuesta es obligatoria\n",
        "\n",
        "\n",
        "\n",
        "\n",
        "\n",
        "                                        "
      ]
    },
    {
      "cell_type": "code",
      "metadata": {
        "id": "AiskKkzZfy4e",
        "colab": {
          "base_uri": "https://localhost:8080/"
        },
        "outputId": "99a37dc9-4b74-46c9-9939-86a04398d61c"
      },
      "source": [],
      "execution_count": null,
      "outputs": [
        {
          "output_type": "stream",
          "name": "stdout",
          "text": [
            "93426\n",
            "*-+/\n",
            "9*3-4+2/6\n",
            "Solucion de 9*3-4+2/6 = 23.333333333333332)\n"
          ]
        }
      ]
    },
    {
      "cell_type": "markdown",
      "metadata": {
        "id": "3_-exlrTgLd-"
      },
      "source": [
        "(*)¿Cuantas posibilidades hay sin tener en cuenta las restricciones?<br>\n",
        "\n",
        "\n",
        "\n",
        "¿Cuantas posibilidades hay teniendo en cuenta todas las restricciones.\n",
        "\n",
        "\n"
      ]
    },
    {
      "cell_type": "markdown",
      "metadata": {
        "id": "WfCUqJyKhPcw"
      },
      "source": [
        "Respuesta"
      ]
    },
    {
      "cell_type": "markdown",
      "source": [
        "Lo primero de todo debemos identificar el tipo de problema al que nos afrontamos, y para ello nos realizamos las siguientes preguntas:\n",
        "####Para las cifras:\n",
        "1. ¿Importa el orden? - SI\n",
        "2. ¿Utilizamos todo el conjunto de datos de partida? - NO\n",
        "Al importar el orden y no utilizar todo el conjunto de partida y al no tener elementos reoetidos, nos encontramos antes un problema de:\n",
        "\n",
        "VARIACION SIN REPETICION.\n",
        "\n",
        "Tomando k=5 (escogemos 5 cifras aletorias) y n=9 (el total del conjunto de partida)\n",
        "\n",
        "SOLUCION= (9!/(9-5)!) = 15.120\n",
        "\n",
        "####Para los operadores:\n",
        "1. Importa el orden? - SI\n",
        "2. Utilizamos todo el conjunto de datos de partida? - SI\n",
        "\n",
        "Se trata de una permutacion SIN repeticion:\n",
        "n=4 (+,-,*,/)\n",
        "SOLUCION= 4! = 24. \n",
        "\n",
        "####Si combinamos ambas:\n",
        "Al no tener restricciones, las posibilidades aumentan:\n",
        "\n",
        "solucion final= 24*15.120= 362.880\n"
      ],
      "metadata": {
        "id": "QCJKjwBYhbtY"
      }
    },
    {
      "cell_type": "markdown",
      "metadata": {
        "id": "dzynfVJahHoY"
      },
      "source": [
        "Modelo para el espacio de soluciones<br>\n",
        "(*) ¿Cual es la estructura de datos que mejor se adapta al problema? Argumentalo.(Es posible que hayas elegido una al principio y veas la necesidad de cambiar, arguentalo)\n"
      ]
    },
    {
      "cell_type": "code",
      "source": [],
      "metadata": {
        "id": "WoazxH91wR2H"
      },
      "execution_count": null,
      "outputs": []
    },
    {
      "cell_type": "code",
      "source": [],
      "metadata": {
        "id": "V62V3XY3wO7H"
      },
      "execution_count": null,
      "outputs": []
    },
    {
      "cell_type": "markdown",
      "metadata": {
        "id": "xFIJrOwKi2Ti"
      },
      "source": [
        "Respuesta"
      ]
    },
    {
      "cell_type": "markdown",
      "source": [
        "He decidio almacenar los datos en dos listas de tipo string, para asi poder realizar las indexaciones y manipulaciones correspondientes adecuadamente."
      ],
      "metadata": {
        "id": "DYaY3mSmoN-c"
      }
    },
    {
      "cell_type": "markdown",
      "metadata": {
        "id": "7Z9U2W7bi-XS"
      },
      "source": [
        "Según el modelo para el espacio de soluciones<br>\n",
        "(*)¿Cual es la función objetivo?\n",
        "\n",
        "(*)¿Es un problema de maximización o minimización?"
      ]
    },
    {
      "cell_type": "markdown",
      "metadata": {
        "id": "hBalWLM7j1_d"
      },
      "source": [
        "Respuesta"
      ]
    },
    {
      "cell_type": "markdown",
      "source": [
        "Al no tratarse de un problema de maximizacion ni de minimacion, sino de BUSQUEDA, la funcion objetivo la podemos definir con la siguiente expresion:\n",
        "\n",
        "f=n1 k n2 k n3 k n4 k n5\n",
        "\n",
        "siendo n= una cifra aletoria que toma valores en el rango de 1 a 9.\n",
        "y siendo k= el operador basico, escogido aletoriamente en cada iteracion.\n"
      ],
      "metadata": {
        "id": "8bw4OXg0oTsz"
      }
    },
    {
      "cell_type": "code",
      "metadata": {
        "id": "pDA-rg3Gj5Lz"
      },
      "source": [],
      "execution_count": null,
      "outputs": []
    },
    {
      "cell_type": "markdown",
      "metadata": {
        "id": "rlnTYgY1j6I2"
      },
      "source": [
        "Diseña un algoritmo para resolver el problema por fuerza bruta"
      ]
    },
    {
      "cell_type": "markdown",
      "metadata": {
        "id": "70rDgxYXkC8r"
      },
      "source": [
        "Respuesta"
      ]
    },
    {
      "cell_type": "code",
      "metadata": {
        "id": "CJb5sQ0qkENy",
        "outputId": "22a5ec99-c358-433c-f76d-69327925eb2a",
        "colab": {
          "base_uri": "https://localhost:8080/"
        }
      },
      "source": [
        "# SOLUCION POR FUERZA BRUTA\n",
        "#importamos las librerías necesarias\n",
        "import random\n",
        "#Definimos una lista con las posibles cifras(1-9) y otra con los posibles operadores(+,-,*,/)\n",
        "#Nos creamos dos listas vacias donde almacenaremos en una la eleccion de nuestras 5 cifras aleatorias=codigo y en otra los operadores de forma tb aleatoria=codigo_2\n",
        "#Por ultim creamos una lista donde almacenaremos la solucion final = resultado\n",
        "cifras=('1','2','3','4','5','6','7','8','9')\n",
        "codigo = ''\n",
        "operadores=('+','-','*','/')\n",
        "codigo_2=''\n",
        "resultado=''\n",
        "#Para seleccionar cifras y operadores aleatorios utilizamos random.choice\n",
        "for n in range(5):\n",
        "    candidato = random.choice(cifras)\n",
        "    # vamos eligiendo digitos no repetidos\n",
        "    while candidato in codigo:\n",
        "        candidato = random.choice(cifras)\n",
        "    codigo = codigo + candidato\n",
        "for i in range(4):\n",
        "    candidato_2 = random.choice(operadores)\n",
        "    while candidato_2 in codigo_2:\n",
        "        candidato_2 = random.choice(operadores)\n",
        "    codigo_2= codigo_2 + candidato_2\n",
        "print(codigo)\n",
        "print(codigo_2)\n",
        "#Combinamos las dos listas de codigo y codigo_2\n",
        "for n, i in zip(codigo, codigo_2):\n",
        "    resultado= resultado + n + i\n",
        "#Debido a que tenemos longitudes distintas entre las cifras y lo operadores, necesitamos añadir la ultima cifra a mano:\n",
        "resultado=resultado + codigo[-1]\n",
        "#Printeamos la expresion:\n",
        "print(resultado)\n",
        "#Evaluamos la expresion:\n",
        "print(f'Solucion de {resultado} = {eval(resultado)})')"
      ],
      "execution_count": 2,
      "outputs": [
        {
          "output_type": "stream",
          "name": "stdout",
          "text": [
            "57319\n",
            "+/-*\n",
            "5+7/3-1*9\n",
            "Solucion de 5+7/3-1*9 = -1.666666666666666)\n"
          ]
        }
      ]
    },
    {
      "cell_type": "markdown",
      "metadata": {
        "id": "tgrnsC2nkFa8"
      },
      "source": [
        "Calcula la complejidad del algoritmo por fuerza bruta"
      ]
    },
    {
      "cell_type": "markdown",
      "metadata": {
        "id": "9eUd3xwckP68"
      },
      "source": [
        "O(3n)"
      ]
    },
    {
      "cell_type": "code",
      "metadata": {
        "id": "rvZWwL-ckRST"
      },
      "source": [],
      "execution_count": null,
      "outputs": []
    },
    {
      "cell_type": "markdown",
      "metadata": {
        "id": "txbrmLmskReM"
      },
      "source": [
        "(*)Diseña un algoritmo que mejore la complejidad del algortimo por fuerza bruta. Argumenta porque crees que mejora el algoritmo por fuerza bruta"
      ]
    },
    {
      "cell_type": "markdown",
      "metadata": {
        "id": "hLrVwt5QkZPD"
      },
      "source": [
        "Respuesta"
      ]
    },
    {
      "cell_type": "code",
      "metadata": {
        "id": "m1eyM21Vkabg"
      },
      "source": [
        "def ramificacion_y_poda(cifras, cantidad):\n",
        "    # Inicializar la lista de soluciones y la cola de nodos a explorar\n",
        "    soluciones = []\n",
        "    nodos_a_explorar = [(\"\", cifras)]\n",
        "\n",
        "    # Mientras haya nodos por explorar\n",
        "    while nodos_a_explorar:\n",
        "        # Obtener el primer nodo de la cola de nodos a explorar\n",
        "        expresion, cifras_restantes = nodos_a_explorar.pop(0)\n",
        "\n",
        "        # Si la expresión es igual a la cantidad dada, añadirlo a la lista de soluciones\n",
        "        if eval(expresion) == cantidad:\n",
        "            soluciones.append(expresion)\n",
        "\n",
        "        # Si la expresión no es igual a la cantidad dada, ramificar\n",
        "        else:\n",
        "            for cifra in cifras_restantes:\n",
        "                # Generar nodo hijo que representa la expresión actual concatenada con la cifra\n",
        "                hijo_cifra = (expresion + cifra, cifras_restantes.replace(cifra, \"\", 1))\n",
        "                nodos_a_explorar.append(hijo_cifra)\n",
        "\n",
        "                for signo in \"+-*/\":\n",
        "                    # Generar nodo hijo que representa la expresión actual concatenada con el signo\n",
        "                    hijo_signo = (expresion + signo, cifras_restantes)\n",
        "                    nodos_a_explorar.append(hijo_signo)\n",
        "\n",
        "    # Devolver la lista de soluciones encontradas\n",
        "    return soluciones\n"
      ],
      "execution_count": 4,
      "outputs": []
    },
    {
      "cell_type": "code",
      "source": [
        "ramificacion_y_poda(cifras,operadores)"
      ],
      "metadata": {
        "id": "qQwbFJY0z6ka",
        "outputId": "62a7ce33-3939-4e62-f9c4-14ffb14c72ac",
        "colab": {
          "base_uri": "https://localhost:8080/",
          "height": 321
        }
      },
      "execution_count": 5,
      "outputs": [
        {
          "output_type": "error",
          "ename": "SyntaxError",
          "evalue": "ignored",
          "traceback": [
            "Traceback \u001b[0;36m(most recent call last)\u001b[0m:\n",
            "  File \u001b[1;32m\"/usr/local/lib/python3.8/dist-packages/IPython/core/interactiveshell.py\"\u001b[0m, line \u001b[1;32m3326\u001b[0m, in \u001b[1;35mrun_code\u001b[0m\n    exec(code_obj, self.user_global_ns, self.user_ns)\n",
            "  File \u001b[1;32m\"<ipython-input-5-88f001214b0f>\"\u001b[0m, line \u001b[1;32m1\u001b[0m, in \u001b[1;35m<module>\u001b[0m\n    ramificacion_y_poda(cifras,operadores)\n",
            "\u001b[0;36m  File \u001b[0;32m\"<ipython-input-4-78ec8b76894b>\"\u001b[0;36m, line \u001b[0;32m12\u001b[0;36m, in \u001b[0;35mramificacion_y_poda\u001b[0;36m\u001b[0m\n\u001b[0;31m    if eval(expresion) == cantidad:\u001b[0m\n",
            "\u001b[0;36m  File \u001b[0;32m\"<string>\"\u001b[0;36m, line \u001b[0;32munknown\u001b[0m\n\u001b[0;31m    \u001b[0m\n\u001b[0m    ^\u001b[0m\n\u001b[0;31mSyntaxError\u001b[0m\u001b[0;31m:\u001b[0m unexpected EOF while parsing\n"
          ]
        }
      ]
    },
    {
      "cell_type": "markdown",
      "metadata": {
        "id": "eGDB4K6uk1iN"
      },
      "source": [
        "(*)Calcula la complejidad del algoritmo "
      ]
    },
    {
      "cell_type": "markdown",
      "metadata": {
        "id": "NhpTh_BPk1ms"
      },
      "source": [
        "Respuesta"
      ]
    },
    {
      "cell_type": "code",
      "metadata": {
        "id": "nREzhkStlCq8"
      },
      "source": [],
      "execution_count": null,
      "outputs": []
    },
    {
      "cell_type": "markdown",
      "metadata": {
        "id": "3M6QjTsSkmYe"
      },
      "source": [
        "Según el problema (y tenga sentido), diseña un juego de datos de entrada aleatorios"
      ]
    },
    {
      "cell_type": "markdown",
      "metadata": {
        "id": "Jc3_OlyNkvjZ"
      },
      "source": [
        "Respuesta"
      ]
    },
    {
      "cell_type": "code",
      "metadata": {
        "id": "sJ-N2etjkyWc"
      },
      "source": [],
      "execution_count": null,
      "outputs": []
    },
    {
      "cell_type": "markdown",
      "metadata": {
        "id": "zy5ZROmjlGo1"
      },
      "source": [
        "Aplica el algoritmo al juego de datos generado"
      ]
    },
    {
      "cell_type": "markdown",
      "metadata": {
        "id": "_Cmj-PVylMsa"
      },
      "source": [
        "Respuesta"
      ]
    },
    {
      "cell_type": "code",
      "metadata": {
        "id": "Jkx8GeiYlUz1"
      },
      "source": [],
      "execution_count": null,
      "outputs": []
    },
    {
      "cell_type": "markdown",
      "metadata": {
        "id": "eTFWUJQrtGcv"
      },
      "source": [
        "Enumera las referencias que has utilizado(si ha sido necesario) para llevar a cabo el trabajo"
      ]
    },
    {
      "cell_type": "markdown",
      "metadata": {
        "id": "YKQ_mRBttWsP"
      },
      "source": [
        "Respuesta"
      ]
    },
    {
      "cell_type": "markdown",
      "metadata": {
        "id": "kAkDPUyRtYyH"
      },
      "source": [
        "Describe brevemente las lineas de como crees que es posible avanzar en el estudio del problema. Ten en cuenta incluso posibles variaciones del problema y/o variaciones al alza del tamaño"
      ]
    },
    {
      "cell_type": "markdown",
      "metadata": {
        "id": "IE0uZmo-tZu-"
      },
      "source": [
        "Respuesta"
      ]
    }
  ]
}