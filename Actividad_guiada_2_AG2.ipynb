{
  "nbformat": 4,
  "nbformat_minor": 0,
  "metadata": {
    "colab": {
      "provenance": [],
      "authorship_tag": "ABX9TyPTUxmCp8adhoQCEgMLmx8d",
      "include_colab_link": true
    },
    "kernelspec": {
      "name": "python3",
      "display_name": "Python 3"
    },
    "language_info": {
      "name": "python"
    }
  },
  "cells": [
    {
      "cell_type": "markdown",
      "metadata": {
        "id": "view-in-github",
        "colab_type": "text"
      },
      "source": [
        "<a href=\"https://colab.research.google.com/github/Anardguezd/03MIAR---Algoritmos-de-Optimizacion/blob/main/Actividad_guiada_2_AG2.ipynb\" target=\"_parent\"><img src=\"https://colab.research.google.com/assets/colab-badge.svg\" alt=\"Open In Colab\"/></a>"
      ]
    },
    {
      "cell_type": "markdown",
      "source": [
        "Nombre: Ana Rodriguez Dominguez\n",
        "\n",
        "Link:https://colab.research.google.com/drive/10MbQCVK2pMZCCIQL8Q9jRzM1bUTgq_Ib?usp=sharing\n",
        "\n",
        "Github: http: //github.com/Anarguezd/03MIAR--Algoritmos-de-Optimizacion"
      ],
      "metadata": {
        "id": "kZwvKHXO98Oc"
      }
    },
    {
      "cell_type": "code",
      "source": [
        "import math"
      ],
      "metadata": {
        "id": "MnAxO9bZ-I_3"
      },
      "execution_count": 1,
      "outputs": []
    },
    {
      "cell_type": "code",
      "source": [
        "#PROGRAMACION DINAMICA \n",
        "#Viaje por el rio\n",
        "\n",
        "#Definimos las tarifas de cada nodo:\n",
        "tarifas=[\n",
        "    [0,5,4,3,999,999,999],\n",
        "    [999,0,999,2,3,999,11],\n",
        "    [999,999,0,1,999,4,10],\n",
        "    [999,999,999,0,5,6,9],\n",
        "    [999,999,999,999,0,999,6],\n",
        "    [999,999,999,999,999,0,3],\n",
        "    [999,999,999,999,999,999,0]\n",
        "    ]\n",
        "#Definimos los precios de las tarifas:\n",
        "def precios(tarifas):\n",
        "  #calculamos el numero de nodos total\n",
        "  N=len(tarifas[0])\n",
        "  #iniciamos la tabla de precios\n",
        "  precios= [ [9999]*N for i in [9999]*N]\n",
        "  ruta= [ [\"\"]*N for i in [\"\"]*N]\n",
        "  #construimos la matriz precios, recorriendo todos los nodos (origen-destino)\n",
        "  for i in range(N-1):\n",
        "    for j in range(i+1,N):\n",
        "      MIN= tarifas[i][j]\n",
        "      ruta[i][j] = i\n",
        "\n",
        "      for k in range(i,j):\n",
        "        if precios[i][k] + tarifas[k][j]< MIN:\n",
        "          MIN=min(MIN, precios[i][k]+ tarifas[k][j])\n",
        "          ruta[i][j]= k\n",
        "        precios[i][j] = MIN\n",
        "  return precios, ruta\n",
        "\n",
        "precios, ruta= precios(tarifas)\n",
        "\n",
        "\n",
        "#Calculo de la ruta usando la matriz ruta:\n",
        "def calcular_ruta(ruta, desde, hasta):\n",
        "  if desde == hasta:\n",
        "    return desde\n",
        "  else:\n",
        "    return str(calcular_ruta(ruta,desde,ruta[desde][hasta])) + ',' + str(ruta[desde][hasta])\n",
        "print(\"La ruta es: \")\n",
        "\n",
        "calcular_ruta(ruta,0,6)\n"
      ],
      "metadata": {
        "colab": {
          "base_uri": "https://localhost:8080/",
          "height": 53
        },
        "id": "ppPKs1DvBPq7",
        "outputId": "3ad3cc13-9c87-42b2-d6c4-449f6c0af185"
      },
      "execution_count": 9,
      "outputs": [
        {
          "output_type": "stream",
          "name": "stdout",
          "text": [
            "La ruta es: \n"
          ]
        },
        {
          "output_type": "execute_result",
          "data": {
            "text/plain": [
              "'0,0,2,5'"
            ],
            "application/vnd.google.colaboratory.intrinsic+json": {
              "type": "string"
            }
          },
          "metadata": {},
          "execution_count": 9
        }
      ]
    },
    {
      "cell_type": "code",
      "source": [
        "#RAMIFICACION Y PODA\n",
        "#Asignacion de tareas\n",
        "#TAREAS\n",
        "#A\n",
        "#G\n",
        "#E\n",
        "#N\n",
        "#T\n",
        "#E\n",
        "#S\n",
        "costes=[[11,12,18,40],\n",
        "         [14,15,13,22],\n",
        "         [11,17,19,23],\n",
        "         [17,14,20,28]\n",
        "         ]\n",
        "#Calculo del valor de una solucion parcial\n",
        "def valor(S,costes):\n",
        "  valor=0\n",
        "  for i in range(len(S)):\n",
        "    valor += costes[i][S[i]]\n",
        "  return valor\n",
        "\n",
        "valor((0,1,2,3),costes)\n"
      ],
      "metadata": {
        "colab": {
          "base_uri": "https://localhost:8080/"
        },
        "id": "773nsxNOG7gF",
        "outputId": "de5a3561-c408-4292-f39b-a470e5ce4ebf"
      },
      "execution_count": 11,
      "outputs": [
        {
          "output_type": "execute_result",
          "data": {
            "text/plain": [
              "73"
            ]
          },
          "metadata": {},
          "execution_count": 11
        }
      ]
    },
    {
      "cell_type": "code",
      "source": [
        "#Coste inferior para soluciones parciales\n",
        "def CI(S,costes):\n",
        "  valor= 0\n",
        "  #Valores establecidos\n",
        "  for i in range(len(S)):\n",
        "    valor+=costes[i][S[i]]\n",
        "  #Estimacion\n",
        "  for i in range(len(S),len(costes)):\n",
        "    valor+=min([costes[j][i] for j in range(len(S), len(costes))])\n",
        "  return valor\n",
        "\n",
        "\n",
        "CI((0,1),costes)"
      ],
      "metadata": {
        "colab": {
          "base_uri": "https://localhost:8080/"
        },
        "id": "5y0XPCy8OHB_",
        "outputId": "d465096c-52fb-4bd4-a5c3-c161aa2abeec"
      },
      "execution_count": 12,
      "outputs": [
        {
          "output_type": "execute_result",
          "data": {
            "text/plain": [
              "68"
            ]
          },
          "metadata": {},
          "execution_count": 12
        }
      ]
    },
    {
      "cell_type": "code",
      "source": [
        "#Funcion para ramificar\n",
        "#Generar tantos hijos como posibilidades haya el siguiente elemento de la tupla\n",
        "#(0,)-> (0,1), (0,2), (0,3)\n",
        "\n",
        "def crear_hijos(nodo,N):\n",
        "  hijos=[]\n",
        "  for i in range(N):\n",
        "    if i not in nodo:\n",
        "      hijos.append({'s':nodo + (i,)})\n",
        "  return hijos\n",
        "\n",
        "crear_hijos((0,),4)"
      ],
      "metadata": {
        "colab": {
          "base_uri": "https://localhost:8080/"
        },
        "id": "naJo_if1PZt9",
        "outputId": "d55f1c5e-2f18-46af-ea0b-d442e2661787"
      },
      "execution_count": 15,
      "outputs": [
        {
          "output_type": "execute_result",
          "data": {
            "text/plain": [
              "[{'s': (0, 1)}, {'s': (0, 2)}, {'s': (0, 3)}]"
            ]
          },
          "metadata": {},
          "execution_count": 15
        }
      ]
    },
    {
      "cell_type": "code",
      "source": [
        "#Proceso principal; Ramificacion y poda\n",
        "def ramificacion_y_poda(costes):\n",
        "  #Construccion iterativa de soluciones(arbol). En cada etapa asignamos un agente(ramas).\n",
        "  #Nodos del grafo {s(1,2), CI:3, CS:5}\n",
        "  dimension=len(costes)\n",
        "  mejor_solucion=tuple(i for i in range(len(costes)))\n",
        "  cotasup= valor(mejor_solucion, costes)\n",
        "\n",
        "  nodos=[]\n",
        "  nodos.append({'s':(), 'ci':CI((),costes)})\n",
        "\n",
        "  iteracion=0\n",
        "  while(len(nodos)>0):\n",
        "    iteracion+=1\n",
        "    nodo_prometedor=[min(nodos, key=lambda x:x['ci'])][0]['s']\n",
        "    #Ramificacion\n",
        "    #Generamos los hijos\n",
        "    hijos=[{'s':x['s'],'ci':CI(x['s'], costes)}for x in crear_hijos(nodo_prometedor, dimension)]\n",
        "    #Revisamos la cota superior y nos quedamos con la mejor solucion, si llegamos a una solucion final\n",
        "    nodo_final=[x for x in hijos if len(x['s'])==dimension]\n",
        "    if len(nodo_final)>0:\n",
        "      if nodo_final[0]['ci']<cotasup:\n",
        "        cotasup=nodo_final[0]['ci']\n",
        "        mejor_solucion=nodo_final\n",
        "    #Poda\n",
        "    hijos= [x for x in hijos if x['ci'] < cotasup]\n",
        "    #Añadimos los hijos\n",
        "    nodos.extend(hijos)\n",
        "    #Eliminamos el nodo ramificado\n",
        "    nodos=[x for x in nodos if x['s']!=nodo_prometedor]\n",
        "  print(\"La solucion final es:\", mejor_solucion, \"en\", iteracion, \"iteraciones\", \"para\", dimension,\"dimensiones\")\n",
        "\n",
        "ramificacion_y_poda(costes)\n"
      ],
      "metadata": {
        "colab": {
          "base_uri": "https://localhost:8080/"
        },
        "id": "iiy0dtoRQtLj",
        "outputId": "cf522635-3a77-4ca2-eab8-633e4d49dc8d"
      },
      "execution_count": 21,
      "outputs": [
        {
          "output_type": "stream",
          "name": "stdout",
          "text": [
            "La solucion final es: [{'s': (1, 2, 0, 3), 'ci': 64}] en 10 iteraciones para 4 dimensiones\n"
          ]
        }
      ]
    }
  ]
}